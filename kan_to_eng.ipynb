{
  "cells": [
    {
      "cell_type": "markdown",
      "metadata": {
        "id": "BlTQ-S09afJy"
      },
      "source": [
        "# Kannada to English Machine Translation"
      ]
    },
    {
      "cell_type": "markdown",
      "metadata": {
        "id": "EgGpnNb7afJ3"
      },
      "source": [
        "Importing/Downloading Libraries"
      ]
    },
    {
      "cell_type": "code",
      "execution_count": null,
      "metadata": {
        "id": "i1WaChxrafJ4",
        "outputId": "4ae7c175-9fd6-4412-ed9a-d9bbf9754891"
      },
      "outputs": [
        {
          "name": "stdout",
          "output_type": "stream",
          "text": [
            "^C\n",
            "Note: you may need to restart the kernel to use updated packages.\n"
          ]
        }
      ],
      "source": [
        "#in case conda environment not available locally, run these commands, or open this in colab\n",
        "%pip install tensorflow\n",
        "%pip install nltk"
      ]
    },
    {
      "cell_type": "code",
      "execution_count": 1,
      "metadata": {
        "id": "O63pqOuIafJ7"
      },
      "outputs": [],
      "source": [
        "import pandas as pd\n",
        "import re\n",
        "import tensorflow as tf\n",
        "from tensorflow.keras.layers import Embedding, LSTM, Dense\n",
        "from tensorflow.keras.models import Model\n",
        "from tensorflow.keras.preprocessing.text import Tokenizer\n",
        "from tensorflow.keras.preprocessing.sequence import pad_sequences\n",
        "import numpy as np\n",
        "import nltk.translate.bleu_score as bleu\n",
        "import random\n",
        "import string\n",
        "from sklearn.model_selection import train_test_split\n",
        "import os\n",
        "import time"
      ]
    },
    {
      "cell_type": "markdown",
      "metadata": {
        "id": "kNvS-dk6afJ8"
      },
      "source": [
        "## Creating CSV Files"
      ]
    },
    {
      "cell_type": "code",
      "execution_count": 3,
      "metadata": {
        "id": "FK8QHF0wafJ8",
        "outputId": "8b12b0fb-9b12-4ec1-91e2-fc34099cabd7",
        "colab": {
          "base_uri": "https://localhost:8080/"
        }
      },
      "outputs": [
        {
          "output_type": "stream",
          "name": "stdout",
          "text": [
            "Such videos are aplenty on social media channels \t ಸಾಮಾಜಿಕ ಜಾಲತಾಣಗಳಲ್ಲಿ ಅದೆಷ್ಟೊ ವಿಡಿಯೋಗಳು ಹರಿದಾಡುತ್ತಿರುತ್ತವೆ\n",
            "This incident happened within the limits of Mudhol Police Station \t ಮುಳಗುಂದ ಪೊಲೀಸ್ ಠಾಣಾ ವ್ಯಾಪ್ತಿಯಲ್ಲಿ ಈ ದುರ್ಘಟನೆ ನಡೆದಿದೆ\n",
            "The situation is currently under control, he said \t ಪ್ರಸ್ತುತ ಪರಿಸ್ಥಿತಿ ನಿಯಂತ್ರಣದಲ್ಲಿದೆ ಎಂದು ತಿಳಿಸಿದ್ದಾರೆ\n",
            "Choose a Bookmark to be your Home Page. If you choose a folder, the Bookmarks in that folder will be opened in Tabs \t ನಿಮ್ಮ ನೆಲೆ ಪುಟವಾಗಿಸಲು ಒಂದು ಬುಕ್‌ಮಾರ್ಕ್ ಅನ್ನು ಆರಿಸಿ. ನೀವು ಒಂದು ಕೋಶವನ್ನು ಆರಿಸಿದರೆ, ಅದರಲ್ಲಿನ ಬುಕ್‌ಮಾರ್ಕುಗಳು ಪ್ರತ್ಯೇಕ ಹಾಳೆಗಳಾಗಿ ತೆರೆಯಲ್ಪಡುತ್ತವೆ\n",
            "Several social organisations are also being involved \t ಇದಕ್ಕೆ ಸಾಮಾಜಿಕವಾದ ಹಲವು ವ್ಯವಸ್ಥೆಗಳು ಪೂರಕವಾಗಿ ಕಾರ್ಯ ನಿರ್ವಹಿಸುತ್ತವೆ\n"
          ]
        }
      ],
      "source": [
        "small_kn = open('/content/smallest.kn', encoding='utf-8').readlines()\n",
        "small_en = open('/content/smallest.en').readlines()\n",
        "for pair in list(zip(small_en[:5], small_kn[:5])):\n",
        "    print(pair[0][:-2],'\\t',pair[1][:-2])"
      ]
    },
    {
      "cell_type": "code",
      "execution_count": 5,
      "metadata": {
        "id": "P3Cukd7oafJ9"
      },
      "outputs": [],
      "source": [
        "with open('/content/kan_eng.csv','w') as f:\n",
        "    for pair in list(zip(small_en[:5000], small_kn[:5000])):\n",
        "        new_pair0 = pair[0].replace(',','')\n",
        "        new_pair1 = pair[1].replace(',', '')\n",
        "        new_pair0 = new_pair0.replace('\\'', '')\n",
        "        new_pair1 = new_pair1.replace('\\'', '')\n",
        "        new_pair0 = new_pair0.replace('\\n','')\n",
        "        new_pair1 = new_pair1.replace('\\n','')\n",
        "        str = new_pair0 + ',' + new_pair1\n",
        "        f.write(str)\n",
        "        f.write('\\n') "
      ]
    },
    {
      "cell_type": "code",
      "execution_count": 6,
      "metadata": {
        "id": "8IKWVVvrafJ_"
      },
      "outputs": [],
      "source": [
        "df = pd.read_csv('/content/kan_eng.csv',names=['English','Kannada'])"
      ]
    },
    {
      "cell_type": "code",
      "execution_count": 7,
      "metadata": {
        "id": "n-GcicZLafJ_",
        "outputId": "06ea45d7-a029-4298-f2b2-75ad39a2bdc6",
        "colab": {
          "base_uri": "https://localhost:8080/",
          "height": 206
        }
      },
      "outputs": [
        {
          "output_type": "execute_result",
          "data": {
            "text/plain": [
              "                                             English  \\\n",
              "0  Such videos are aplenty on social media channels.   \n",
              "1  This incident happened within the limits of Mu...   \n",
              "2  The situation is currently under control he said.   \n",
              "3  Choose a Bookmark to be your Home Page. If you...   \n",
              "4  Several social organisations are also being in...   \n",
              "\n",
              "                                             Kannada  \n",
              "0  ಸಾಮಾಜಿಕ ಜಾಲತಾಣಗಳಲ್ಲಿ ಅದೆಷ್ಟೊ ವಿಡಿಯೋಗಳು ಹರಿದಾಡು...  \n",
              "1  ಮುಳಗುಂದ ಪೊಲೀಸ್ ಠಾಣಾ ವ್ಯಾಪ್ತಿಯಲ್ಲಿ ಈ ದುರ್ಘಟನೆ ನ...  \n",
              "2  ಪ್ರಸ್ತುತ ಪರಿಸ್ಥಿತಿ ನಿಯಂತ್ರಣದಲ್ಲಿದೆ ಎಂದು ತಿಳಿಸಿ...  \n",
              "3  ನಿಮ್ಮ ನೆಲೆ ಪುಟವಾಗಿಸಲು ಒಂದು ಬುಕ್‌ಮಾರ್ಕ್ ಅನ್ನು ಆ...  \n",
              "4  ಇದಕ್ಕೆ ಸಾಮಾಜಿಕವಾದ ಹಲವು ವ್ಯವಸ್ಥೆಗಳು ಪೂರಕವಾಗಿ ಕಾ...  "
            ],
            "text/html": [
              "\n",
              "  <div id=\"df-83faf093-2f5a-4004-bebf-b3a38b660e75\">\n",
              "    <div class=\"colab-df-container\">\n",
              "      <div>\n",
              "<style scoped>\n",
              "    .dataframe tbody tr th:only-of-type {\n",
              "        vertical-align: middle;\n",
              "    }\n",
              "\n",
              "    .dataframe tbody tr th {\n",
              "        vertical-align: top;\n",
              "    }\n",
              "\n",
              "    .dataframe thead th {\n",
              "        text-align: right;\n",
              "    }\n",
              "</style>\n",
              "<table border=\"1\" class=\"dataframe\">\n",
              "  <thead>\n",
              "    <tr style=\"text-align: right;\">\n",
              "      <th></th>\n",
              "      <th>English</th>\n",
              "      <th>Kannada</th>\n",
              "    </tr>\n",
              "  </thead>\n",
              "  <tbody>\n",
              "    <tr>\n",
              "      <th>0</th>\n",
              "      <td>Such videos are aplenty on social media channels.</td>\n",
              "      <td>ಸಾಮಾಜಿಕ ಜಾಲತಾಣಗಳಲ್ಲಿ ಅದೆಷ್ಟೊ ವಿಡಿಯೋಗಳು ಹರಿದಾಡು...</td>\n",
              "    </tr>\n",
              "    <tr>\n",
              "      <th>1</th>\n",
              "      <td>This incident happened within the limits of Mu...</td>\n",
              "      <td>ಮುಳಗುಂದ ಪೊಲೀಸ್ ಠಾಣಾ ವ್ಯಾಪ್ತಿಯಲ್ಲಿ ಈ ದುರ್ಘಟನೆ ನ...</td>\n",
              "    </tr>\n",
              "    <tr>\n",
              "      <th>2</th>\n",
              "      <td>The situation is currently under control he said.</td>\n",
              "      <td>ಪ್ರಸ್ತುತ ಪರಿಸ್ಥಿತಿ ನಿಯಂತ್ರಣದಲ್ಲಿದೆ ಎಂದು ತಿಳಿಸಿ...</td>\n",
              "    </tr>\n",
              "    <tr>\n",
              "      <th>3</th>\n",
              "      <td>Choose a Bookmark to be your Home Page. If you...</td>\n",
              "      <td>ನಿಮ್ಮ ನೆಲೆ ಪುಟವಾಗಿಸಲು ಒಂದು ಬುಕ್‌ಮಾರ್ಕ್ ಅನ್ನು ಆ...</td>\n",
              "    </tr>\n",
              "    <tr>\n",
              "      <th>4</th>\n",
              "      <td>Several social organisations are also being in...</td>\n",
              "      <td>ಇದಕ್ಕೆ ಸಾಮಾಜಿಕವಾದ ಹಲವು ವ್ಯವಸ್ಥೆಗಳು ಪೂರಕವಾಗಿ ಕಾ...</td>\n",
              "    </tr>\n",
              "  </tbody>\n",
              "</table>\n",
              "</div>\n",
              "      <button class=\"colab-df-convert\" onclick=\"convertToInteractive('df-83faf093-2f5a-4004-bebf-b3a38b660e75')\"\n",
              "              title=\"Convert this dataframe to an interactive table.\"\n",
              "              style=\"display:none;\">\n",
              "        \n",
              "  <svg xmlns=\"http://www.w3.org/2000/svg\" height=\"24px\"viewBox=\"0 0 24 24\"\n",
              "       width=\"24px\">\n",
              "    <path d=\"M0 0h24v24H0V0z\" fill=\"none\"/>\n",
              "    <path d=\"M18.56 5.44l.94 2.06.94-2.06 2.06-.94-2.06-.94-.94-2.06-.94 2.06-2.06.94zm-11 1L8.5 8.5l.94-2.06 2.06-.94-2.06-.94L8.5 2.5l-.94 2.06-2.06.94zm10 10l.94 2.06.94-2.06 2.06-.94-2.06-.94-.94-2.06-.94 2.06-2.06.94z\"/><path d=\"M17.41 7.96l-1.37-1.37c-.4-.4-.92-.59-1.43-.59-.52 0-1.04.2-1.43.59L10.3 9.45l-7.72 7.72c-.78.78-.78 2.05 0 2.83L4 21.41c.39.39.9.59 1.41.59.51 0 1.02-.2 1.41-.59l7.78-7.78 2.81-2.81c.8-.78.8-2.07 0-2.86zM5.41 20L4 18.59l7.72-7.72 1.47 1.35L5.41 20z\"/>\n",
              "  </svg>\n",
              "      </button>\n",
              "      \n",
              "  <style>\n",
              "    .colab-df-container {\n",
              "      display:flex;\n",
              "      flex-wrap:wrap;\n",
              "      gap: 12px;\n",
              "    }\n",
              "\n",
              "    .colab-df-convert {\n",
              "      background-color: #E8F0FE;\n",
              "      border: none;\n",
              "      border-radius: 50%;\n",
              "      cursor: pointer;\n",
              "      display: none;\n",
              "      fill: #1967D2;\n",
              "      height: 32px;\n",
              "      padding: 0 0 0 0;\n",
              "      width: 32px;\n",
              "    }\n",
              "\n",
              "    .colab-df-convert:hover {\n",
              "      background-color: #E2EBFA;\n",
              "      box-shadow: 0px 1px 2px rgba(60, 64, 67, 0.3), 0px 1px 3px 1px rgba(60, 64, 67, 0.15);\n",
              "      fill: #174EA6;\n",
              "    }\n",
              "\n",
              "    [theme=dark] .colab-df-convert {\n",
              "      background-color: #3B4455;\n",
              "      fill: #D2E3FC;\n",
              "    }\n",
              "\n",
              "    [theme=dark] .colab-df-convert:hover {\n",
              "      background-color: #434B5C;\n",
              "      box-shadow: 0px 1px 3px 1px rgba(0, 0, 0, 0.15);\n",
              "      filter: drop-shadow(0px 1px 2px rgba(0, 0, 0, 0.3));\n",
              "      fill: #FFFFFF;\n",
              "    }\n",
              "  </style>\n",
              "\n",
              "      <script>\n",
              "        const buttonEl =\n",
              "          document.querySelector('#df-83faf093-2f5a-4004-bebf-b3a38b660e75 button.colab-df-convert');\n",
              "        buttonEl.style.display =\n",
              "          google.colab.kernel.accessAllowed ? 'block' : 'none';\n",
              "\n",
              "        async function convertToInteractive(key) {\n",
              "          const element = document.querySelector('#df-83faf093-2f5a-4004-bebf-b3a38b660e75');\n",
              "          const dataTable =\n",
              "            await google.colab.kernel.invokeFunction('convertToInteractive',\n",
              "                                                     [key], {});\n",
              "          if (!dataTable) return;\n",
              "\n",
              "          const docLinkHtml = 'Like what you see? Visit the ' +\n",
              "            '<a target=\"_blank\" href=https://colab.research.google.com/notebooks/data_table.ipynb>data table notebook</a>'\n",
              "            + ' to learn more about interactive tables.';\n",
              "          element.innerHTML = '';\n",
              "          dataTable['output_type'] = 'display_data';\n",
              "          await google.colab.output.renderOutput(dataTable, element);\n",
              "          const docLink = document.createElement('div');\n",
              "          docLink.innerHTML = docLinkHtml;\n",
              "          element.appendChild(docLink);\n",
              "        }\n",
              "      </script>\n",
              "    </div>\n",
              "  </div>\n",
              "  "
            ]
          },
          "metadata": {},
          "execution_count": 7
        }
      ],
      "source": [
        "df.head()"
      ]
    },
    {
      "cell_type": "code",
      "execution_count": 8,
      "metadata": {
        "id": "XW_B_j2kafKA",
        "outputId": "30eb521e-07d2-4da1-ea08-fd9057131cf0",
        "colab": {
          "base_uri": "https://localhost:8080/"
        }
      },
      "outputs": [
        {
          "output_type": "execute_result",
          "data": {
            "text/plain": [
              "(5000, 2)"
            ]
          },
          "metadata": {},
          "execution_count": 8
        }
      ],
      "source": [
        "df.dropna(inplace=True)\n",
        "df.shape"
      ]
    },
    {
      "cell_type": "code",
      "execution_count": 9,
      "metadata": {
        "id": "cPd3atPfafKB"
      },
      "outputs": [],
      "source": [
        "exclude = set(string.punctuation) # Set of all special characters\n",
        "remove_digits = str.maketrans('', '', string.digits) # Set of all digits"
      ]
    },
    {
      "cell_type": "code",
      "execution_count": 10,
      "metadata": {
        "id": "HnA3dRgcafKC"
      },
      "outputs": [],
      "source": [
        "def preprocess(text):\n",
        "    '''Function to preprocess English sentence'''\n",
        "    text = text.lower() # lower casing\n",
        "    text = re.sub(\"'\", '', text) # remove the quotation marks if any\n",
        "    text = ''.join(ch for ch in text if ch not in exclude)\n",
        "    text = text.translate(remove_digits) # remove the digits\n",
        "    text = text.strip()\n",
        "    text = re.sub(\" +\", \" \", text) # remove extra spaces\n",
        "    text = '<start> ' + text + ' <end>'\n",
        "    return text"
      ]
    },
    {
      "cell_type": "code",
      "execution_count": 11,
      "metadata": {
        "id": "pQ2QFPLJafKC"
      },
      "outputs": [],
      "source": [
        "def preprocess_kan(text):\n",
        "    '''Function to preprocess Kannada sentence'''\n",
        "    text = re.sub(\"'\", '', text) # remove the quotation marks if any\n",
        "    text = ''.join(ch for ch in text if ch not in exclude)\n",
        "    text = text.strip()\n",
        "    text = re.sub(\" +\", \" \", text) # remove extra spaces\n",
        "    text = '<start> ' + text + ' <end>'\n",
        "    return text"
      ]
    },
    {
      "cell_type": "code",
      "execution_count": 12,
      "metadata": {
        "id": "wDNOJ9HtafKD",
        "outputId": "d689d6aa-7282-4e84-e8e0-4a3188d5ae71",
        "colab": {
          "base_uri": "https://localhost:8080/",
          "height": 206
        }
      },
      "outputs": [
        {
          "output_type": "execute_result",
          "data": {
            "text/plain": [
              "                                             English  \\\n",
              "0  <start> such videos are aplenty on social medi...   \n",
              "1  <start> this incident happened within the limi...   \n",
              "2  <start> the situation is currently under contr...   \n",
              "3  <start> choose a bookmark to be your home page...   \n",
              "4  <start> several social organisations are also ...   \n",
              "\n",
              "                                             Kannada  \n",
              "0  <start> ಸಾಮಾಜಿಕ ಜಾಲತಾಣಗಳಲ್ಲಿ ಅದೆಷ್ಟೊ ವಿಡಿಯೋಗಳು...  \n",
              "1  <start> ಮುಳಗುಂದ ಪೊಲೀಸ್ ಠಾಣಾ ವ್ಯಾಪ್ತಿಯಲ್ಲಿ ಈ ದು...  \n",
              "2  <start> ಪ್ರಸ್ತುತ ಪರಿಸ್ಥಿತಿ ನಿಯಂತ್ರಣದಲ್ಲಿದೆ ಎಂದ...  \n",
              "3  <start> ನಿಮ್ಮ ನೆಲೆ ಪುಟವಾಗಿಸಲು ಒಂದು ಬುಕ್‌ಮಾರ್ಕ್...  \n",
              "4  <start> ಇದಕ್ಕೆ ಸಾಮಾಜಿಕವಾದ ಹಲವು ವ್ಯವಸ್ಥೆಗಳು ಪೂರ...  "
            ],
            "text/html": [
              "\n",
              "  <div id=\"df-8563f3e0-8dcb-4abc-bdbb-3ba4dbb45a54\">\n",
              "    <div class=\"colab-df-container\">\n",
              "      <div>\n",
              "<style scoped>\n",
              "    .dataframe tbody tr th:only-of-type {\n",
              "        vertical-align: middle;\n",
              "    }\n",
              "\n",
              "    .dataframe tbody tr th {\n",
              "        vertical-align: top;\n",
              "    }\n",
              "\n",
              "    .dataframe thead th {\n",
              "        text-align: right;\n",
              "    }\n",
              "</style>\n",
              "<table border=\"1\" class=\"dataframe\">\n",
              "  <thead>\n",
              "    <tr style=\"text-align: right;\">\n",
              "      <th></th>\n",
              "      <th>English</th>\n",
              "      <th>Kannada</th>\n",
              "    </tr>\n",
              "  </thead>\n",
              "  <tbody>\n",
              "    <tr>\n",
              "      <th>0</th>\n",
              "      <td>&lt;start&gt; such videos are aplenty on social medi...</td>\n",
              "      <td>&lt;start&gt; ಸಾಮಾಜಿಕ ಜಾಲತಾಣಗಳಲ್ಲಿ ಅದೆಷ್ಟೊ ವಿಡಿಯೋಗಳು...</td>\n",
              "    </tr>\n",
              "    <tr>\n",
              "      <th>1</th>\n",
              "      <td>&lt;start&gt; this incident happened within the limi...</td>\n",
              "      <td>&lt;start&gt; ಮುಳಗುಂದ ಪೊಲೀಸ್ ಠಾಣಾ ವ್ಯಾಪ್ತಿಯಲ್ಲಿ ಈ ದು...</td>\n",
              "    </tr>\n",
              "    <tr>\n",
              "      <th>2</th>\n",
              "      <td>&lt;start&gt; the situation is currently under contr...</td>\n",
              "      <td>&lt;start&gt; ಪ್ರಸ್ತುತ ಪರಿಸ್ಥಿತಿ ನಿಯಂತ್ರಣದಲ್ಲಿದೆ ಎಂದ...</td>\n",
              "    </tr>\n",
              "    <tr>\n",
              "      <th>3</th>\n",
              "      <td>&lt;start&gt; choose a bookmark to be your home page...</td>\n",
              "      <td>&lt;start&gt; ನಿಮ್ಮ ನೆಲೆ ಪುಟವಾಗಿಸಲು ಒಂದು ಬುಕ್‌ಮಾರ್ಕ್...</td>\n",
              "    </tr>\n",
              "    <tr>\n",
              "      <th>4</th>\n",
              "      <td>&lt;start&gt; several social organisations are also ...</td>\n",
              "      <td>&lt;start&gt; ಇದಕ್ಕೆ ಸಾಮಾಜಿಕವಾದ ಹಲವು ವ್ಯವಸ್ಥೆಗಳು ಪೂರ...</td>\n",
              "    </tr>\n",
              "  </tbody>\n",
              "</table>\n",
              "</div>\n",
              "      <button class=\"colab-df-convert\" onclick=\"convertToInteractive('df-8563f3e0-8dcb-4abc-bdbb-3ba4dbb45a54')\"\n",
              "              title=\"Convert this dataframe to an interactive table.\"\n",
              "              style=\"display:none;\">\n",
              "        \n",
              "  <svg xmlns=\"http://www.w3.org/2000/svg\" height=\"24px\"viewBox=\"0 0 24 24\"\n",
              "       width=\"24px\">\n",
              "    <path d=\"M0 0h24v24H0V0z\" fill=\"none\"/>\n",
              "    <path d=\"M18.56 5.44l.94 2.06.94-2.06 2.06-.94-2.06-.94-.94-2.06-.94 2.06-2.06.94zm-11 1L8.5 8.5l.94-2.06 2.06-.94-2.06-.94L8.5 2.5l-.94 2.06-2.06.94zm10 10l.94 2.06.94-2.06 2.06-.94-2.06-.94-.94-2.06-.94 2.06-2.06.94z\"/><path d=\"M17.41 7.96l-1.37-1.37c-.4-.4-.92-.59-1.43-.59-.52 0-1.04.2-1.43.59L10.3 9.45l-7.72 7.72c-.78.78-.78 2.05 0 2.83L4 21.41c.39.39.9.59 1.41.59.51 0 1.02-.2 1.41-.59l7.78-7.78 2.81-2.81c.8-.78.8-2.07 0-2.86zM5.41 20L4 18.59l7.72-7.72 1.47 1.35L5.41 20z\"/>\n",
              "  </svg>\n",
              "      </button>\n",
              "      \n",
              "  <style>\n",
              "    .colab-df-container {\n",
              "      display:flex;\n",
              "      flex-wrap:wrap;\n",
              "      gap: 12px;\n",
              "    }\n",
              "\n",
              "    .colab-df-convert {\n",
              "      background-color: #E8F0FE;\n",
              "      border: none;\n",
              "      border-radius: 50%;\n",
              "      cursor: pointer;\n",
              "      display: none;\n",
              "      fill: #1967D2;\n",
              "      height: 32px;\n",
              "      padding: 0 0 0 0;\n",
              "      width: 32px;\n",
              "    }\n",
              "\n",
              "    .colab-df-convert:hover {\n",
              "      background-color: #E2EBFA;\n",
              "      box-shadow: 0px 1px 2px rgba(60, 64, 67, 0.3), 0px 1px 3px 1px rgba(60, 64, 67, 0.15);\n",
              "      fill: #174EA6;\n",
              "    }\n",
              "\n",
              "    [theme=dark] .colab-df-convert {\n",
              "      background-color: #3B4455;\n",
              "      fill: #D2E3FC;\n",
              "    }\n",
              "\n",
              "    [theme=dark] .colab-df-convert:hover {\n",
              "      background-color: #434B5C;\n",
              "      box-shadow: 0px 1px 3px 1px rgba(0, 0, 0, 0.15);\n",
              "      filter: drop-shadow(0px 1px 2px rgba(0, 0, 0, 0.3));\n",
              "      fill: #FFFFFF;\n",
              "    }\n",
              "  </style>\n",
              "\n",
              "      <script>\n",
              "        const buttonEl =\n",
              "          document.querySelector('#df-8563f3e0-8dcb-4abc-bdbb-3ba4dbb45a54 button.colab-df-convert');\n",
              "        buttonEl.style.display =\n",
              "          google.colab.kernel.accessAllowed ? 'block' : 'none';\n",
              "\n",
              "        async function convertToInteractive(key) {\n",
              "          const element = document.querySelector('#df-8563f3e0-8dcb-4abc-bdbb-3ba4dbb45a54');\n",
              "          const dataTable =\n",
              "            await google.colab.kernel.invokeFunction('convertToInteractive',\n",
              "                                                     [key], {});\n",
              "          if (!dataTable) return;\n",
              "\n",
              "          const docLinkHtml = 'Like what you see? Visit the ' +\n",
              "            '<a target=\"_blank\" href=https://colab.research.google.com/notebooks/data_table.ipynb>data table notebook</a>'\n",
              "            + ' to learn more about interactive tables.';\n",
              "          element.innerHTML = '';\n",
              "          dataTable['output_type'] = 'display_data';\n",
              "          await google.colab.output.renderOutput(dataTable, element);\n",
              "          const docLink = document.createElement('div');\n",
              "          docLink.innerHTML = docLinkHtml;\n",
              "          element.appendChild(docLink);\n",
              "        }\n",
              "      </script>\n",
              "    </div>\n",
              "  </div>\n",
              "  "
            ]
          },
          "metadata": {},
          "execution_count": 12
        }
      ],
      "source": [
        "df['English'] = df['English'].apply(preprocess)\n",
        "df['Kannada'] = df['Kannada'].apply(preprocess_kan)\n",
        "\n",
        "\n",
        "df.head()"
      ]
    },
    {
      "cell_type": "code",
      "execution_count": 13,
      "metadata": {
        "id": "atccSlMFafKD"
      },
      "outputs": [],
      "source": [
        "def tokenize(lang):\n",
        "\n",
        "  lang_tokenizer = tf.keras.preprocessing.text.Tokenizer(filters='')\n",
        "  lang_tokenizer.fit_on_texts(lang)\n",
        "\n",
        "  tensor = lang_tokenizer.texts_to_sequences(lang)\n",
        "\n",
        "  tensor = tf.keras.preprocessing.sequence.pad_sequences(tensor,padding='post',maxlen=20,dtype='int32')\n",
        "\n",
        "  return tensor, lang_tokenizer"
      ]
    },
    {
      "cell_type": "code",
      "execution_count": 14,
      "metadata": {
        "id": "Rjjrc7y1afKE"
      },
      "outputs": [],
      "source": [
        "def load_dataset():\n",
        "\n",
        "  input_tensor, inp_lang_tokenizer = tokenize(df['English'].values)\n",
        "  target_tensor, targ_lang_tokenizer = tokenize(df['Kannada'].values)\n",
        "\n",
        "  return input_tensor, target_tensor, inp_lang_tokenizer, targ_lang_tokenizer"
      ]
    },
    {
      "cell_type": "code",
      "execution_count": 15,
      "metadata": {
        "id": "s46q3PewafKE"
      },
      "outputs": [],
      "source": [
        "input_tensor, target_tensor, inp_lang, targ_lang = load_dataset()"
      ]
    },
    {
      "cell_type": "code",
      "execution_count": 16,
      "metadata": {
        "id": "zjNDpddIafKF"
      },
      "outputs": [],
      "source": [
        "max_length_targ, max_length_inp = target_tensor.shape[1], input_tensor.shape[1]"
      ]
    },
    {
      "cell_type": "code",
      "execution_count": 17,
      "metadata": {
        "id": "O4fOTbAJafKF",
        "outputId": "34b0f776-ce7b-4698-9ab4-33188750a93c",
        "colab": {
          "base_uri": "https://localhost:8080/"
        }
      },
      "outputs": [
        {
          "output_type": "stream",
          "name": "stdout",
          "text": [
            "4250 4250 750 750\n"
          ]
        }
      ],
      "source": [
        "input_tensor_train, input_tensor_val, target_tensor_train, target_tensor_val = train_test_split(input_tensor, target_tensor, test_size=0.15)\n",
        "\n",
        "print(len(input_tensor_train), len(target_tensor_train), len(input_tensor_val), len(target_tensor_val))"
      ]
    },
    {
      "cell_type": "code",
      "execution_count": 18,
      "metadata": {
        "id": "YtPpOABqafKG"
      },
      "outputs": [],
      "source": [
        "BUFFER_SIZE = len(input_tensor_train)\n",
        "BATCH_SIZE = 16\n",
        "N_BATCH = BUFFER_SIZE//BATCH_SIZE\n",
        "embedding_dim = 128\n",
        "units = 1024\n",
        "steps_per_epoch = len(input_tensor_train)//BATCH_SIZE\n",
        "\n",
        "vocab_inp_size =len(inp_lang.word_index.keys())\n",
        "vocab_tar_size =len(targ_lang.word_index.keys())\n",
        "\n",
        "dataset = tf.data.Dataset.from_tensor_slices((input_tensor_train, target_tensor_train)).shuffle(BUFFER_SIZE)\n",
        "dataset = dataset.batch(BATCH_SIZE, drop_remainder=True)"
      ]
    },
    {
      "cell_type": "code",
      "execution_count": 20,
      "metadata": {
        "id": "jGJ_AKNbafKH"
      },
      "outputs": [],
      "source": [
        "embeddings_index = dict()\n",
        "f = open('/content/drive/MyDrive/glove.6B.300d.txt')\n",
        "for line in f:\n",
        "    values = line.split()\n",
        "    word = values[0]\n",
        "    coefs = np.asarray(values[1:], dtype='float32')\n",
        "    embeddings_index[word] = coefs\n",
        "f.close()\n",
        "\n",
        "embedding_matrix = np.zeros((vocab_inp_size+1, 300))\n",
        "for word, i in inp_lang.word_index.items():\n",
        "    embedding_vector = embeddings_index.get(word)\n",
        "    if embedding_vector is not None:\n",
        "        embedding_matrix[i] = embedding_vector"
      ]
    },
    {
      "cell_type": "code",
      "execution_count": 21,
      "metadata": {
        "id": "ebhe8W6zafKI"
      },
      "outputs": [],
      "source": [
        "class Encoder(tf.keras.Model):\n",
        "    def __init__(self, vocab_size, embedding_dim, enc_units, batch_sz):\n",
        "        super(Encoder, self).__init__()\n",
        "        self.batch_sz = batch_sz\n",
        "        self.enc_units = enc_units\n",
        "        self.embedding = tf.keras.layers.Embedding(input_dim=vocab_size, output_dim=embedding_dim, name=\"embedding_layer_encoder\",trainable=False)\n",
        "        self.gru = tf.keras.layers.GRU(units, return_sequences=True, return_state=True, recurrent_activation='sigmoid', recurrent_initializer='glorot_uniform')\n",
        "        \n",
        "    def call(self, x, hidden):\n",
        "        x = self.embedding(x)\n",
        "        output, state = self.gru(x, initial_state = hidden)\n",
        "        return output, state\n",
        "    \n",
        "    def initialize_hidden_state(self):\n",
        "        return tf.zeros((self.batch_sz, self.enc_units))"
      ]
    },
    {
      "cell_type": "code",
      "execution_count": 22,
      "metadata": {
        "id": "xzku31jAafKI"
      },
      "outputs": [],
      "source": [
        "class Decoder(tf.keras.Model):\n",
        "    def __init__(self, vocab_size, embedding_dim, dec_units, batch_sz):\n",
        "        super(Decoder, self).__init__()\n",
        "        self.batch_sz = batch_sz\n",
        "        self.dec_units = dec_units\n",
        "        self.embedding = tf.keras.layers.Embedding(vocab_size, embedding_dim)\n",
        "        self.gru = tf.keras.layers.GRU(units, return_sequences=True, return_state=True, recurrent_activation='sigmoid', recurrent_initializer='glorot_uniform')\n",
        "        self.fc = tf.keras.layers.Dense(vocab_size)\n",
        "\n",
        "                # used for attention\n",
        "        self.W1 = tf.keras.layers.Dense(self.dec_units)\n",
        "        self.W2 = tf.keras.layers.Dense(self.dec_units)\n",
        "        self.V = tf.keras.layers.Dense(1)\n",
        "\n",
        "    def call(self, x, hidden, enc_output):\n",
        "\n",
        "        hidden_with_time_axis = tf.expand_dims(hidden, 1)\n",
        "        \n",
        "        score = self.V(tf.nn.tanh(self.W1(enc_output) + self.W2(hidden_with_time_axis)))\n",
        "        \n",
        "        attention_weights = tf.nn.softmax(score, axis=1)\n",
        "        \n",
        "        context_vector = attention_weights * enc_output\n",
        "        context_vector = tf.reduce_sum(context_vector, axis=1)\n",
        "        \n",
        "        x = self.embedding(x)\n",
        "        \n",
        "        x = tf.concat([tf.expand_dims(context_vector, 1), x], axis=-1)\n",
        "        \n",
        "        output, state = self.gru(x)\n",
        "        \n",
        "        output = tf.reshape(output, (-1, output.shape[2]))\n",
        "        \n",
        "        x = self.fc(output)\n",
        "        \n",
        "        return x, state, attention_weights\n",
        "        \n",
        "    def initialize_hidden_state(self):\n",
        "        return tf.zeros((self.batch_sz, self.dec_units))"
      ]
    },
    {
      "cell_type": "code",
      "execution_count": 23,
      "metadata": {
        "id": "2keSGpcHafKJ"
      },
      "outputs": [],
      "source": [
        "tf.keras.backend.clear_session()\n",
        "\n",
        "encoder = Encoder(vocab_inp_size+1, 300, units, BATCH_SIZE)\n",
        "decoder = Decoder(vocab_tar_size+1, embedding_dim, units, BATCH_SIZE)"
      ]
    },
    {
      "cell_type": "code",
      "execution_count": 24,
      "metadata": {
        "id": "BS3SYDLeafKJ"
      },
      "outputs": [],
      "source": [
        "optimizer = tf.keras.optimizers.Adam()\n",
        "loss_object = tf.keras.losses.SparseCategoricalCrossentropy(from_logits=True,\n",
        "                                                            reduction='none')\n",
        "\n",
        "\n",
        "def loss_function(real, pred):\n",
        "  mask = tf.math.logical_not(tf.math.equal(real, 0))\n",
        "  loss_ = loss_object(real, pred)\n",
        "\n",
        "  mask = tf.cast(mask, dtype=loss_.dtype)\n",
        "  loss_ *= mask\n",
        "\n",
        "  return tf.reduce_mean(loss_)"
      ]
    },
    {
      "cell_type": "code",
      "execution_count": 25,
      "metadata": {
        "id": "9WpHTR17afKK"
      },
      "outputs": [],
      "source": [
        "@tf.function\n",
        "def train_step(inp, targ, enc_hidden):\n",
        "  loss = 0\n",
        "\n",
        "  with tf.GradientTape() as tape:\n",
        "    enc_output, enc_hidden = encoder(inp, enc_hidden)\n",
        "    encoder.get_layer('embedding_layer_encoder').set_weights([embedding_matrix])\n",
        "    dec_hidden = enc_hidden\n",
        "\n",
        "    dec_input = tf.expand_dims([targ_lang.word_index['<start>']] * BATCH_SIZE, 1)\n",
        "\n",
        "    for t in range(1, targ.shape[1]):\n",
        "      predictions, dec_hidden, _ = decoder(dec_input, dec_hidden, enc_output)\n",
        "\n",
        "      loss += loss_function(targ[:, t], predictions)\n",
        "\n",
        "      dec_input = tf.expand_dims(targ[:, t], 1)\n",
        "\n",
        "  batch_loss = (loss / int(targ.shape[1]))\n",
        "\n",
        "  variables = encoder.trainable_variables + decoder.trainable_variables\n",
        "\n",
        "  gradients = tape.gradient(loss, variables)\n",
        "\n",
        "  optimizer.apply_gradients(zip(gradients, variables))\n",
        "\n",
        "  return batch_loss"
      ]
    },
    {
      "cell_type": "code",
      "execution_count": 26,
      "metadata": {
        "id": "heFucsjUafKK",
        "outputId": "f32fdc07-e88a-4671-c849-571295cf6bbd",
        "colab": {
          "base_uri": "https://localhost:8080/"
        }
      },
      "outputs": [
        {
          "output_type": "stream",
          "name": "stdout",
          "text": [
            "Epoch 1 Batch 0 Loss 3.7299\n",
            "Epoch 1 Batch 100 Loss 4.4187\n",
            "Epoch 1 Batch 200 Loss 3.4605\n",
            "Epoch 1 Loss 3.3158\n",
            "Time taken for 1 epoch 131.73 sec\n",
            "\n",
            "Epoch 2 Batch 0 Loss 2.6701\n",
            "Epoch 2 Batch 100 Loss 2.3735\n",
            "Epoch 2 Batch 200 Loss 3.5714\n",
            "Epoch 2 Loss 3.0718\n",
            "Time taken for 1 epoch 77.95 sec\n",
            "\n",
            "Epoch 3 Batch 0 Loss 3.3035\n",
            "Epoch 3 Batch 100 Loss 2.8892\n",
            "Epoch 3 Batch 200 Loss 4.1320\n",
            "Epoch 3 Loss 2.9271\n",
            "Time taken for 1 epoch 77.94 sec\n",
            "\n",
            "Epoch 4 Batch 0 Loss 2.8281\n",
            "Epoch 4 Batch 100 Loss 2.7089\n",
            "Epoch 4 Batch 200 Loss 2.1460\n",
            "Epoch 4 Loss 2.8667\n",
            "Time taken for 1 epoch 78.07 sec\n",
            "\n",
            "Epoch 5 Batch 0 Loss 2.2021\n",
            "Epoch 5 Batch 100 Loss 3.2497\n",
            "Epoch 5 Batch 200 Loss 2.6398\n",
            "Epoch 5 Loss 2.7613\n",
            "Time taken for 1 epoch 77.82 sec\n",
            "\n",
            "Epoch 6 Batch 0 Loss 1.9049\n",
            "Epoch 6 Batch 100 Loss 3.0283\n",
            "Epoch 6 Batch 200 Loss 2.1715\n",
            "Epoch 6 Loss 2.6333\n",
            "Time taken for 1 epoch 77.85 sec\n",
            "\n",
            "Epoch 7 Batch 0 Loss 2.9947\n",
            "Epoch 7 Batch 100 Loss 2.4851\n",
            "Epoch 7 Batch 200 Loss 3.9030\n",
            "Epoch 7 Loss 2.4378\n",
            "Time taken for 1 epoch 77.95 sec\n",
            "\n",
            "Epoch 8 Batch 0 Loss 1.9038\n",
            "Epoch 8 Batch 100 Loss 2.0500\n",
            "Epoch 8 Batch 200 Loss 2.3069\n",
            "Epoch 8 Loss 2.1990\n",
            "Time taken for 1 epoch 78.01 sec\n",
            "\n",
            "Epoch 9 Batch 0 Loss 1.0198\n",
            "Epoch 9 Batch 100 Loss 2.0475\n",
            "Epoch 9 Batch 200 Loss 1.8438\n",
            "Epoch 9 Loss 1.9700\n",
            "Time taken for 1 epoch 78.21 sec\n",
            "\n",
            "Epoch 10 Batch 0 Loss 1.5516\n",
            "Epoch 10 Batch 100 Loss 1.6360\n",
            "Epoch 10 Batch 200 Loss 1.6443\n",
            "Epoch 10 Loss 1.7462\n",
            "Time taken for 1 epoch 78.00 sec\n",
            "\n",
            "Epoch 11 Batch 0 Loss 1.0209\n",
            "Epoch 11 Batch 100 Loss 1.6351\n",
            "Epoch 11 Batch 200 Loss 1.8179\n",
            "Epoch 11 Loss 1.5431\n",
            "Time taken for 1 epoch 77.85 sec\n",
            "\n",
            "Epoch 12 Batch 0 Loss 1.1891\n",
            "Epoch 12 Batch 100 Loss 1.4076\n",
            "Epoch 12 Batch 200 Loss 1.4813\n",
            "Epoch 12 Loss 1.3586\n",
            "Time taken for 1 epoch 78.27 sec\n",
            "\n",
            "Epoch 13 Batch 0 Loss 1.3222\n",
            "Epoch 13 Batch 100 Loss 1.0991\n",
            "Epoch 13 Batch 200 Loss 1.3346\n",
            "Epoch 13 Loss 1.2017\n",
            "Time taken for 1 epoch 78.11 sec\n",
            "\n",
            "Epoch 14 Batch 0 Loss 0.7571\n",
            "Epoch 14 Batch 100 Loss 1.1432\n",
            "Epoch 14 Batch 200 Loss 0.8201\n",
            "Epoch 14 Loss 1.0593\n",
            "Time taken for 1 epoch 78.03 sec\n",
            "\n",
            "Epoch 15 Batch 0 Loss 0.8356\n",
            "Epoch 15 Batch 100 Loss 0.7884\n",
            "Epoch 15 Batch 200 Loss 1.1734\n",
            "Epoch 15 Loss 0.9244\n",
            "Time taken for 1 epoch 78.01 sec\n",
            "\n",
            "Epoch 16 Batch 0 Loss 1.0143\n",
            "Epoch 16 Batch 100 Loss 0.5952\n",
            "Epoch 16 Batch 200 Loss 0.7242\n",
            "Epoch 16 Loss 0.7976\n",
            "Time taken for 1 epoch 78.09 sec\n",
            "\n",
            "Epoch 17 Batch 0 Loss 0.5936\n",
            "Epoch 17 Batch 100 Loss 0.5813\n",
            "Epoch 17 Batch 200 Loss 0.7663\n",
            "Epoch 17 Loss 0.6976\n",
            "Time taken for 1 epoch 77.97 sec\n",
            "\n",
            "Epoch 18 Batch 0 Loss 0.6094\n",
            "Epoch 18 Batch 100 Loss 0.6265\n",
            "Epoch 18 Batch 200 Loss 0.7939\n",
            "Epoch 18 Loss 0.6984\n",
            "Time taken for 1 epoch 78.18 sec\n",
            "\n",
            "Epoch 19 Batch 0 Loss 0.4621\n",
            "Epoch 19 Batch 100 Loss 0.4910\n",
            "Epoch 19 Batch 200 Loss 0.5476\n",
            "Epoch 19 Loss 0.5361\n",
            "Time taken for 1 epoch 78.11 sec\n",
            "\n",
            "Epoch 20 Batch 0 Loss 0.3411\n",
            "Epoch 20 Batch 100 Loss 0.4869\n",
            "Epoch 20 Batch 200 Loss 0.3324\n",
            "Epoch 20 Loss 0.4533\n",
            "Time taken for 1 epoch 77.93 sec\n",
            "\n",
            "Epoch 21 Batch 0 Loss 0.2174\n",
            "Epoch 21 Batch 100 Loss 0.3572\n",
            "Epoch 21 Batch 200 Loss 0.3985\n",
            "Epoch 21 Loss 0.3836\n",
            "Time taken for 1 epoch 77.99 sec\n",
            "\n",
            "Epoch 22 Batch 0 Loss 0.2298\n",
            "Epoch 22 Batch 100 Loss 0.4818\n",
            "Epoch 22 Batch 200 Loss 0.3107\n",
            "Epoch 22 Loss 0.3228\n",
            "Time taken for 1 epoch 77.67 sec\n",
            "\n",
            "Epoch 23 Batch 0 Loss 0.3020\n",
            "Epoch 23 Batch 100 Loss 0.2062\n",
            "Epoch 23 Batch 200 Loss 0.2280\n",
            "Epoch 23 Loss 0.2804\n",
            "Time taken for 1 epoch 77.39 sec\n",
            "\n",
            "Epoch 24 Batch 0 Loss 0.1952\n",
            "Epoch 24 Batch 100 Loss 0.2683\n",
            "Epoch 24 Batch 200 Loss 0.1784\n",
            "Epoch 24 Loss 0.2293\n",
            "Time taken for 1 epoch 77.39 sec\n",
            "\n",
            "Epoch 25 Batch 0 Loss 0.1925\n",
            "Epoch 25 Batch 100 Loss 0.1418\n",
            "Epoch 25 Batch 200 Loss 0.2631\n",
            "Epoch 25 Loss 0.1931\n",
            "Time taken for 1 epoch 77.60 sec\n",
            "\n"
          ]
        }
      ],
      "source": [
        "EPOCHS = 25\n",
        "\n",
        "for epoch in range(EPOCHS):\n",
        "  start = time.time()\n",
        "\n",
        "  enc_hidden = encoder.initialize_hidden_state()\n",
        "  total_loss = 0\n",
        "\n",
        "  for (batch, (inp, targ)) in enumerate(dataset.take(steps_per_epoch)):\n",
        "    batch_loss = train_step(inp, targ, enc_hidden)\n",
        "    total_loss += batch_loss\n",
        "\n",
        "    if batch % 100 == 0:\n",
        "      print(f'Epoch {epoch+1} Batch {batch} Loss {batch_loss.numpy():.4f}')\n",
        "\n",
        "  print(f'Epoch {epoch+1} Loss {total_loss/steps_per_epoch:.4f}')\n",
        "  print(f'Time taken for 1 epoch {time.time()-start:.2f} sec\\n')"
      ]
    }
  ],
  "metadata": {
    "interpreter": {
      "hash": "5360b5eed0b3c044ea986e96c7f19631a6e9ceea628a1533c75de8a730f2dbe7"
    },
    "kernelspec": {
      "display_name": "Python 3.8.10 64-bit (windows store)",
      "language": "python",
      "name": "python3"
    },
    "language_info": {
      "codemirror_mode": {
        "name": "ipython",
        "version": 3
      },
      "file_extension": ".py",
      "mimetype": "text/x-python",
      "name": "python",
      "nbconvert_exporter": "python",
      "pygments_lexer": "ipython3",
      "version": "3.8.5"
    },
    "orig_nbformat": 4,
    "colab": {
      "name": "kan_to_eng.ipynb",
      "provenance": []
    },
    "accelerator": "GPU"
  },
  "nbformat": 4,
  "nbformat_minor": 0
}