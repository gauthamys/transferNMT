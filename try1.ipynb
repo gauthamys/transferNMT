{
 "cells": [
  {
   "cell_type": "markdown",
   "metadata": {},
   "source": [
    "# Transfer Learning in NMT with attention"
   ]
  },
  {
   "cell_type": "markdown",
   "metadata": {},
   "source": [
    "Telugu English Parallel corpus"
   ]
  },
  {
   "cell_type": "code",
   "execution_count": 7,
   "metadata": {},
   "outputs": [
    {
     "name": "stdout",
     "output_type": "stream",
     "text": [
      "మళ్లీ ఉదయిస్తాడు.\n",
      "\tRise again.\n",
      "\n",
      "యెహోవా కృపను మనమెలా మహిమపరచవచ్చు?\n",
      "\tHow do we glorify Jehovahs undeserved kindness?\n",
      "\n",
      "ఆర్థికంగా కూడా భారత్‌ వే గంగా పయనిస్తున్నది.\n",
      "\tIndia also continues to push back economically.\n",
      "\n",
      "‘విద్యార్థులను చూస్తుంటే నాకు చిన్నప్పటి రోజులు గుర్తుకొస్తున్నాయి.\n",
      "\tI remember my childhood days.\n",
      "\n",
      "ఆర్థిక లావాదేవీలన్నీ ఆన్‌లైన్‌లోనే\n",
      "\tAll transactions are made online.\n",
      "\n"
     ]
    }
   ],
   "source": [
    "en_te_train = open('./en-te/en-te/train.en').readlines()\n",
    "te_train = open('./en-te/en-te/train.te', encoding='utf-8').readlines()\n",
    "\n",
    "for pair in list(zip(te_train[:5], en_te_train[:5])):\n",
    "    print(f'{pair[0]}\\t{pair[1]}')"
   ]
  },
  {
   "cell_type": "markdown",
   "metadata": {},
   "source": [
    "Kannada English Parallel corpus"
   ]
  },
  {
   "cell_type": "code",
   "execution_count": 9,
   "metadata": {},
   "outputs": [
    {
     "name": "stdout",
     "output_type": "stream",
     "text": [
      "మళ్లీ ఉదయిస్తాడు.\n",
      "\tSuch videos are aplenty on social media channels.\n",
      "\n",
      "యెహోవా కృపను మనమెలా మహిమపరచవచ్చు?\n",
      "\tThis incident happened within the limits of Mudhol Police Station.\n",
      "\n",
      "ఆర్థికంగా కూడా భారత్‌ వే గంగా పయనిస్తున్నది.\n",
      "\tThe situation is currently under control, he said.\n",
      "\n",
      "‘విద్యార్థులను చూస్తుంటే నాకు చిన్నప్పటి రోజులు గుర్తుకొస్తున్నాయి.\n",
      "\tChoose a Bookmark to be your Home Page. If you choose a folder, the Bookmarks in that folder will be opened in Tabs.\n",
      "\n",
      "ఆర్థిక లావాదేవీలన్నీ ఆన్‌లైన్‌లోనే\n",
      "\tSeveral social organisations are also being involved.\n",
      "\n"
     ]
    }
   ],
   "source": [
    "en_kn_train = open('./en-kn/en-kn/train.en').readlines()\n",
    "ka_train = open('./en-kn/en-kn/train.kn', encoding='utf-8').readlines()\n",
    "\n",
    "for pair in list(zip(te_train[:5], en_kn_train[:5])):\n",
    "    print(f'{pair[0]}\\t{pair[1]}')"
   ]
  },
  {
   "cell_type": "code",
   "execution_count": null,
   "metadata": {},
   "outputs": [],
   "source": []
  }
 ],
 "metadata": {
  "kernelspec": {
   "display_name": "Python 3",
   "language": "python",
   "name": "python3"
  },
  "language_info": {
   "codemirror_mode": {
    "name": "ipython",
    "version": 3
   },
   "file_extension": ".py",
   "mimetype": "text/x-python",
   "name": "python",
   "nbconvert_exporter": "python",
   "pygments_lexer": "ipython3",
   "version": "3.8.3"
  }
 },
 "nbformat": 4,
 "nbformat_minor": 4
}
